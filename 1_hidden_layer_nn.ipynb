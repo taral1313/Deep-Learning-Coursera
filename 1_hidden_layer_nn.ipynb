{
 "cells": [
  {
   "cell_type": "code",
   "execution_count": 178,
   "metadata": {},
   "outputs": [],
   "source": [
    "from planar_utils import load_extra_datasets, load_planar_dataset\n",
    "import numpy as np\n",
    "import matplotlib.pyplot as plt\n",
    "import pandas as pd\n",
    "\n",
    "import copy\n",
    "\n"
   ]
  },
  {
   "cell_type": "code",
   "execution_count": 179,
   "metadata": {},
   "outputs": [],
   "source": [
    "X, Y = load_planar_dataset()"
   ]
  },
  {
   "cell_type": "code",
   "execution_count": 180,
   "metadata": {},
   "outputs": [
    {
     "data": {
      "text/plain": [
       "2"
      ]
     },
     "execution_count": 180,
     "metadata": {},
     "output_type": "execute_result"
    }
   ],
   "source": [
    "X.shape[0]"
   ]
  },
  {
   "cell_type": "code",
   "execution_count": 181,
   "metadata": {},
   "outputs": [],
   "source": [
    "def initialize_weights(X_features, n_nodes_first_layer, num_y):\n",
    "\n",
    "    # parameters = {}\n",
    "    W1 = np.random.randn(n_nodes_first_layer, X_features)*0.01\n",
    "    b1 = np.zeros((n_nodes_first_layer, 1))\n",
    "\n",
    "    W2 = np.random.randn(num_y, n_nodes_first_layer)*0.01\n",
    "    b2 = np.zeros((num_y, 1))\n",
    "\n",
    "\n",
    "    return {\n",
    "        'W1': W1,\n",
    "        'b1': b1,\n",
    "        'W2': W2,\n",
    "        'b2': b2\n",
    "    }"
   ]
  },
  {
   "cell_type": "code",
   "execution_count": 182,
   "metadata": {},
   "outputs": [],
   "source": [
    "def sigmoid(z):\n",
    "    return 1/(1+np.exp(-z))"
   ]
  },
  {
   "cell_type": "code",
   "execution_count": 158,
   "metadata": {},
   "outputs": [
    {
     "data": {
      "text/plain": [
       "(2, 400)"
      ]
     },
     "execution_count": 158,
     "metadata": {},
     "output_type": "execute_result"
    }
   ],
   "source": [
    "X.shape"
   ]
  },
  {
   "cell_type": "code",
   "execution_count": 184,
   "metadata": {},
   "outputs": [],
   "source": [
    "parameters_new, t_X = predict_test_case()"
   ]
  },
  {
   "cell_type": "code",
   "execution_count": 185,
   "metadata": {},
   "outputs": [
    {
     "data": {
      "text/plain": [
       "(2, 3)"
      ]
     },
     "execution_count": 185,
     "metadata": {},
     "output_type": "execute_result"
    }
   ],
   "source": [
    "t_X.shape"
   ]
  },
  {
   "cell_type": "code",
   "execution_count": 186,
   "metadata": {},
   "outputs": [],
   "source": [
    "def forward_propogation(X, parameters):\n",
    "    W1 = parameters['W1']\n",
    "    b1 = parameters['b1']\n",
    "    W2 = parameters['W2']\n",
    "    b2 = parameters['b2']\n",
    "\n",
    "    Z1 = np.dot(W1, X) + b1\n",
    "    A1 = np.tanh(Z1)\n",
    "\n",
    "    Z2 = np.dot(W2, A1) + b2\n",
    "    A2 = sigmoid(Z2)\n",
    "\n",
    "    cache = A1, A2\n",
    "\n",
    "    return A2, cache"
   ]
  },
  {
   "cell_type": "code",
   "execution_count": 187,
   "metadata": {},
   "outputs": [],
   "source": [
    "parameters = initialize_weights(2, 4, 1)"
   ]
  },
  {
   "cell_type": "code",
   "execution_count": 188,
   "metadata": {},
   "outputs": [],
   "source": [
    "A2, cache = forward_propogation(X, parameters)"
   ]
  },
  {
   "cell_type": "code",
   "execution_count": 189,
   "metadata": {},
   "outputs": [
    {
     "data": {
      "text/plain": [
       "(1, 400)"
      ]
     },
     "execution_count": 189,
     "metadata": {},
     "output_type": "execute_result"
    }
   ],
   "source": [
    "A2.shape"
   ]
  },
  {
   "cell_type": "code",
   "execution_count": 190,
   "metadata": {},
   "outputs": [],
   "source": [
    "# Y_predicted = [1 if i > 0.5 else 0 for i in list(A2)]"
   ]
  },
  {
   "cell_type": "code",
   "execution_count": 191,
   "metadata": {},
   "outputs": [],
   "source": [
    "# Y_predicted = np.array([Y_predicted])"
   ]
  },
  {
   "cell_type": "code",
   "execution_count": 192,
   "metadata": {},
   "outputs": [
    {
     "data": {
      "text/plain": [
       "{'W1': array([[ 0.01744812, -0.00761207],\n",
       "        [ 0.00319039, -0.0024937 ],\n",
       "        [ 0.01462108, -0.02060141],\n",
       "        [-0.00322417, -0.00384054]]),\n",
       " 'b1': array([[0.],\n",
       "        [0.],\n",
       "        [0.],\n",
       "        [0.]]),\n",
       " 'W2': array([[ 0.01133769, -0.01099891, -0.00172428, -0.00877858]]),\n",
       " 'b2': array([[0.]])}"
      ]
     },
     "execution_count": 192,
     "metadata": {},
     "output_type": "execute_result"
    }
   ],
   "source": [
    "parameters"
   ]
  },
  {
   "cell_type": "code",
   "execution_count": 193,
   "metadata": {},
   "outputs": [],
   "source": [
    "Y_predicted = A2"
   ]
  },
  {
   "cell_type": "code",
   "execution_count": 194,
   "metadata": {},
   "outputs": [
    {
     "data": {
      "text/plain": [
       "400"
      ]
     },
     "execution_count": 194,
     "metadata": {},
     "output_type": "execute_result"
    }
   ],
   "source": [
    "Y.shape[1]"
   ]
  },
  {
   "cell_type": "code",
   "execution_count": 195,
   "metadata": {},
   "outputs": [],
   "source": [
    "def compute_cost(Y, A):\n",
    "    m = Y.shape[1]\n",
    "    cost = -(1/m)*np.sum(Y*np.log(A) + (1-Y)*np.log(1-A))\n",
    "    cost = float(np.squeeze(cost))\n",
    "    return cost\n",
    "    \n",
    "    "
   ]
  },
  {
   "cell_type": "code",
   "execution_count": 196,
   "metadata": {},
   "outputs": [],
   "source": [
    "from testCases_v2 import *\n",
    "from public_tests import *\n",
    "A2, t_Y = compute_cost_test_case()"
   ]
  },
  {
   "cell_type": "code",
   "execution_count": 197,
   "metadata": {},
   "outputs": [
    {
     "name": "stdout",
     "output_type": "stream",
     "text": [
      "cost = inf\n"
     ]
    },
    {
     "name": "stderr",
     "output_type": "stream",
     "text": [
      "C:\\Users\\tarlsarv\\AppData\\Local\\Temp\\ipykernel_27324\\1664250260.py:3: RuntimeWarning: divide by zero encountered in log\n",
      "  cost = -(1/m)*np.sum(Y*np.log(A) + (1-Y)*np.log(1-A))\n"
     ]
    }
   ],
   "source": [
    "cost = compute_cost(t_Y, A2)\n",
    "print(\"cost = \" + str(compute_cost(A2, t_Y)))\n",
    "\n",
    "# compute_cost_test(compute_cost)"
   ]
  },
  {
   "cell_type": "code",
   "execution_count": null,
   "metadata": {},
   "outputs": [],
   "source": []
  },
  {
   "cell_type": "code",
   "execution_count": 198,
   "metadata": {},
   "outputs": [
    {
     "data": {
      "text/plain": [
       "0.6930587610394646"
      ]
     },
     "execution_count": 198,
     "metadata": {},
     "output_type": "execute_result"
    }
   ],
   "source": [
    "cost"
   ]
  },
  {
   "cell_type": "code",
   "execution_count": 199,
   "metadata": {},
   "outputs": [
    {
     "data": {
      "text/plain": [
       "array([[0.5002307 , 0.49985831, 0.50023963]])"
      ]
     },
     "execution_count": 199,
     "metadata": {},
     "output_type": "execute_result"
    }
   ],
   "source": [
    "A2"
   ]
  },
  {
   "cell_type": "code",
   "execution_count": 200,
   "metadata": {},
   "outputs": [],
   "source": [
    "def backward_propogation(A, X, Y, parameters, cache):\n",
    "\n",
    "    m = X.shape[1]\n",
    "    W1 = copy.deepcopy(parameters['W1'])\n",
    "    b1 = copy.deepcopy(parameters['b1'])\n",
    "    W2 = copy.deepcopy(parameters['W2'])\n",
    "    b2 = copy.deepcopy(parameters['b2'])\n",
    "    A1, A2 = cache\n",
    "\n",
    "    dZ2 = A2 - Y\n",
    "    dW2 = (1/m)*np.dot(dZ2, A1.T)\n",
    "\n",
    "    db2 = (1/m)*np.sum(dZ2, axis=1, keepdims=True)\n",
    "    dZ1 = W2.T*(dZ2*(1-np.power(A1, 2)))\n",
    "    dW1 = (1/m)*np.dot(dZ1, X.T)\n",
    "    db1 = (1/m)*np.sum(dZ1, axis=1, keepdims=True)\n",
    "\n",
    "    return {\n",
    "        'dW1': dW1,\n",
    "        'db1': db1,\n",
    "        'dW2': dW2,\n",
    "        'db2': db2\n",
    "    }"
   ]
  },
  {
   "cell_type": "code",
   "execution_count": 201,
   "metadata": {},
   "outputs": [],
   "source": [
    "grads = backward_propogation(Y_predicted, X, Y, parameters, cache)"
   ]
  },
  {
   "cell_type": "code",
   "execution_count": 202,
   "metadata": {},
   "outputs": [
    {
     "data": {
      "text/plain": [
       "{'dW1': array([[-2.56391151e-04,  2.23506299e-03],\n",
       "        [ 2.46566493e-04, -2.16655733e-03],\n",
       "        [ 3.97409864e-05, -3.37356446e-04],\n",
       "        [ 1.96362232e-04, -1.72892120e-03]]),\n",
       " 'db1': array([[ 5.62450693e-07],\n",
       "        [-1.17685130e-08],\n",
       "        [-1.71549834e-07],\n",
       "        [ 2.06091086e-08]]),\n",
       " 'dW2': array([[-0.00189198, -0.00056271, -0.00437975, -0.0006843 ]]),\n",
       " 'db2': array([[-1.61533303e-06]])}"
      ]
     },
     "execution_count": 202,
     "metadata": {},
     "output_type": "execute_result"
    }
   ],
   "source": [
    "grads"
   ]
  },
  {
   "cell_type": "code",
   "execution_count": 203,
   "metadata": {},
   "outputs": [
    {
     "name": "stdout",
     "output_type": "stream",
     "text": [
      "(4, 2)\n",
      "(4, 1)\n",
      "(1, 4)\n",
      "(1, 1)\n"
     ]
    }
   ],
   "source": [
    "print(grads['dW1'].shape)\n",
    "print(grads['db1'].shape)\n",
    "print(grads['dW2'].shape)\n",
    "print(grads['db2'].shape)"
   ]
  },
  {
   "cell_type": "code",
   "execution_count": 204,
   "metadata": {},
   "outputs": [
    {
     "data": {
      "text/plain": [
       "{'W1': array([[ 0.01744812, -0.00761207],\n",
       "        [ 0.00319039, -0.0024937 ],\n",
       "        [ 0.01462108, -0.02060141],\n",
       "        [-0.00322417, -0.00384054]]),\n",
       " 'b1': array([[0.],\n",
       "        [0.],\n",
       "        [0.],\n",
       "        [0.]]),\n",
       " 'W2': array([[ 0.01133769, -0.01099891, -0.00172428, -0.00877858]]),\n",
       " 'b2': array([[0.]])}"
      ]
     },
     "execution_count": 204,
     "metadata": {},
     "output_type": "execute_result"
    }
   ],
   "source": [
    "parameters"
   ]
  },
  {
   "cell_type": "code",
   "execution_count": 205,
   "metadata": {},
   "outputs": [
    {
     "data": {
      "text/plain": [
       "{'W1': array([[-0.01072969,  0.00865408],\n",
       "        [-0.02301539,  0.01744812],\n",
       "        [-0.00761207,  0.00319039],\n",
       "        [-0.0024937 ,  0.01462108]]),\n",
       " 'b1': array([[0.],\n",
       "        [0.],\n",
       "        [0.],\n",
       "        [0.]]),\n",
       " 'W2': array([[-0.02060141, -0.00322417, -0.00384054,  0.01133769]]),\n",
       " 'b2': array([[0.]])}"
      ]
     },
     "execution_count": 205,
     "metadata": {},
     "output_type": "execute_result"
    }
   ],
   "source": [
    "initialize_weights(X.shape[0], 4, Y.shape[0])"
   ]
  },
  {
   "cell_type": "code",
   "execution_count": 206,
   "metadata": {},
   "outputs": [],
   "source": [
    "def train_model(X, Y, num_iterations, learning_rate):\n",
    "\n",
    "    parameters = initialize_weights(X.shape[0], 4, Y.shape[0])\n",
    "    \n",
    "    weights = {}\n",
    "    \n",
    "    for i in range(num_iterations):\n",
    "        Y_predicted, cache = forward_propogation(X, parameters)\n",
    "        \n",
    "        W1 = parameters['W1']\n",
    "        b1 = parameters['b1']\n",
    "        W2 = parameters['W2']\n",
    "        b2 = parameters['b2']\n",
    "        grads = backward_propogation(Y_predicted, X, Y, parameters, cache)\n",
    "        \n",
    "        dW1 = grads['dW1'] \n",
    "        db1 = grads['db1']\n",
    "        dW2 = grads['dW2']\n",
    "        db2 = grads['db2']\n",
    "        W1_updated = W1 - learning_rate*dW1\n",
    "        b1_updated = b1 - learning_rate*db1\n",
    "        W2_updated = W2 - learning_rate*dW2\n",
    "        b2_updated = b2 - learning_rate*db2\n",
    "\n",
    "\n",
    "        parameters = {\n",
    "        'W1': W1_updated,\n",
    "        'b1': b1_updated,\n",
    "        'W2': W2_updated,\n",
    "        'b2': b2_updated\n",
    "    }\n",
    "        if i % 1000 == 0:\n",
    "            cost = compute_cost(Y, Y_predicted)\n",
    "            print(\"Cost of iteration\", i,\"is\", cost)\n",
    "            # print(grads)\n",
    "    weights = {\n",
    "        \"W1\":W1_updated,\n",
    "        \"b1\":b1_updated,\n",
    "        \"W2\":W2_updated,\n",
    "        \"b2\":b2_updated\n",
    "    }\n",
    "\n",
    "    return weights"
   ]
  },
  {
   "cell_type": "code",
   "execution_count": 207,
   "metadata": {},
   "outputs": [
    {
     "name": "stdout",
     "output_type": "stream",
     "text": [
      "Cost of iteration 0 is 0.6931631182360876\n",
      "Cost of iteration 1000 is 0.2495643874348826\n",
      "Cost of iteration 2000 is 0.23511926848102468\n",
      "Cost of iteration 3000 is 0.22980333960075072\n",
      "Cost of iteration 4000 is 0.2267563721307441\n",
      "Cost of iteration 5000 is 0.22473142182554826\n",
      "Cost of iteration 6000 is 0.2232678531433492\n",
      "Cost of iteration 7000 is 0.22213712861729476\n",
      "Cost of iteration 8000 is 0.221221582357837\n",
      "Cost of iteration 9000 is 0.22045459521681024\n"
     ]
    }
   ],
   "source": [
    "weights = train_model(X, Y, num_iterations=10000, learning_rate=2.3)"
   ]
  },
  {
   "cell_type": "code",
   "execution_count": 208,
   "metadata": {},
   "outputs": [
    {
     "data": {
      "text/plain": [
       "{'W1': array([[-15.12609462, -17.06520247],\n",
       "        [ 13.59817647,  -3.91167359],\n",
       "        [ -0.10978716,  12.49253395],\n",
       "        [-12.44002873,  13.20668351]]),\n",
       " 'b1': array([[-0.05087077],\n",
       "        [ 0.4229644 ],\n",
       "        [ 0.16170722],\n",
       "        [-0.11922114]]),\n",
       " 'W2': array([[ 4.83290418, -2.91138597,  8.96252705, -8.29052804]]),\n",
       " 'b2': array([[-0.05046921]])}"
      ]
     },
     "execution_count": 208,
     "metadata": {},
     "output_type": "execute_result"
    }
   ],
   "source": [
    "weights"
   ]
  },
  {
   "cell_type": "code",
   "execution_count": 209,
   "metadata": {},
   "outputs": [],
   "source": [
    "def predict_Y(X, weights):\n",
    "    W1 = weights['W1']\n",
    "    b1 = weights['b1']\n",
    "    W2 = weights['W2']\n",
    "    b2 = weights['b2']\n",
    "\n",
    "    Z1 = np.dot(W1, X) + b1\n",
    "    A1 = np.tanh(Z1)\n",
    "\n",
    "    Z2 = np.dot(W2, A1) + b2\n",
    "    A2 = sigmoid(Z2)\n",
    "\n",
    "    return A2\n",
    "    "
   ]
  },
  {
   "cell_type": "code",
   "execution_count": 210,
   "metadata": {},
   "outputs": [
    {
     "data": {
      "text/plain": [
       "(2, 3)"
      ]
     },
     "execution_count": 210,
     "metadata": {},
     "output_type": "execute_result"
    }
   ],
   "source": [
    "t_X.shape"
   ]
  },
  {
   "cell_type": "code",
   "execution_count": 211,
   "metadata": {},
   "outputs": [],
   "source": [
    "t_Y_pred = predict_Y(t_X, weights)"
   ]
  },
  {
   "cell_type": "code",
   "execution_count": 212,
   "metadata": {},
   "outputs": [
    {
     "data": {
      "text/plain": [
       "0.0002103081379837574"
      ]
     },
     "execution_count": 212,
     "metadata": {},
     "output_type": "execute_result"
    }
   ],
   "source": [
    "t_Y_pred[0][0]"
   ]
  },
  {
   "cell_type": "code",
   "execution_count": 213,
   "metadata": {},
   "outputs": [
    {
     "ename": "NameError",
     "evalue": "name 't_T' is not defined",
     "output_type": "error",
     "traceback": [
      "\u001b[1;31m---------------------------------------------------------------------------\u001b[0m",
      "\u001b[1;31mNameError\u001b[0m                                 Traceback (most recent call last)",
      "\u001b[1;32mc:\\Users\\tarlsarv\\Downloads\\shallow_neural_network\\1_hidden_layer_nn.ipynb Cell 37'\u001b[0m in \u001b[0;36m<cell line: 1>\u001b[1;34m()\u001b[0m\n\u001b[1;32m----> <a href='vscode-notebook-cell:/c%3A/Users/tarlsarv/Downloads/shallow_neural_network/1_hidden_layer_nn.ipynb#ch0000035?line=0'>1</a>\u001b[0m t_T\n",
      "\u001b[1;31mNameError\u001b[0m: name 't_T' is not defined"
     ]
    }
   ],
   "source": [
    "t_T"
   ]
  },
  {
   "cell_type": "code",
   "execution_count": null,
   "metadata": {},
   "outputs": [],
   "source": []
  },
  {
   "cell_type": "code",
   "execution_count": null,
   "metadata": {},
   "outputs": [],
   "source": []
  },
  {
   "cell_type": "code",
   "execution_count": null,
   "metadata": {},
   "outputs": [],
   "source": []
  }
 ],
 "metadata": {
  "kernelspec": {
   "display_name": "Python 3.10.5 64-bit",
   "language": "python",
   "name": "python3"
  },
  "language_info": {
   "codemirror_mode": {
    "name": "ipython",
    "version": 3
   },
   "file_extension": ".py",
   "mimetype": "text/x-python",
   "name": "python",
   "nbconvert_exporter": "python",
   "pygments_lexer": "ipython3",
   "version": "3.10.5"
  },
  "orig_nbformat": 4,
  "vscode": {
   "interpreter": {
    "hash": "cf75baf5e7ca3faaa82feacc38aaa4bb309862360d3df1f500c535d8b05cd050"
   }
  }
 },
 "nbformat": 4,
 "nbformat_minor": 2
}
