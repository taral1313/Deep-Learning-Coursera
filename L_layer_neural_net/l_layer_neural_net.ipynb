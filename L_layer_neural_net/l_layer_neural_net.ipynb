{
 "cells": [
  {
   "cell_type": "code",
   "execution_count": 1,
   "metadata": {},
   "outputs": [],
   "source": [
    "import time\n",
    "import numpy as np\n",
    "import h5py\n",
    "import matplotlib.pyplot as plt\n",
    "import scipy\n",
    "from PIL import Image\n",
    "from scipy import ndimage\n",
    "from dnn_app_utils_v3 import *\n",
    "from public_tests import *"
   ]
  },
  {
   "cell_type": "code",
   "execution_count": 2,
   "metadata": {},
   "outputs": [],
   "source": [
    "train_x_orig, train_y, test_x_orig, test_y, classes = load_data()"
   ]
  },
  {
   "cell_type": "code",
   "execution_count": null,
   "metadata": {},
   "outputs": [],
   "source": []
  },
  {
   "cell_type": "code",
   "execution_count": 3,
   "metadata": {},
   "outputs": [],
   "source": [
    "# function to create any image sample of shape (64, 64) * 3 to its eqouivalent flattened form\n",
    "\n",
    "def create_flattened_data(data):\n",
    "\n",
    "    X = data.reshape((data[1].shape[0]*data[1].shape[0]*3, len(data)))\n",
    "    flattened_data = X/255.\n",
    "    return flattened_data"
   ]
  },
  {
   "cell_type": "code",
   "execution_count": 4,
   "metadata": {},
   "outputs": [],
   "source": [
    "X = create_flattened_data(train_x_orig)\n",
    "# Y = create_flattened_data(train_y)"
   ]
  },
  {
   "cell_type": "code",
   "execution_count": 5,
   "metadata": {},
   "outputs": [],
   "source": [
    "def initialize_deep_weights(X, layers_dims):\n",
    "\n",
    "    L = len(layers_dims)\n",
    "    parameters = {}\n",
    "\n",
    "    parameters['W1'] = np.random.randn(layers_dims[0], X.shape[0])\n",
    "    parameters['b1'] = np.zeros((layers_dims[0], 1))\n",
    "    \n",
    "    for l in range(1, L):\n",
    "\n",
    "        parameters['W' + str(l+1)] = np.random.randn(layers_dims[l], layers_dims[l-1]) * 0.01\n",
    "        parameters['b' + str(l+1)] = np.zeros((layers_dims[l], 1))\n",
    "    \n",
    "    return parameters"
   ]
  },
  {
   "cell_type": "code",
   "execution_count": 6,
   "metadata": {},
   "outputs": [],
   "source": [
    "def linear_forward(A, W, b):\n",
    "\n",
    "    Z = np.dot(W, A) + b\n",
    "    \n",
    "    cache = (A, W, b) # Here A is actually A_prev which is activation from previous layer\n",
    "    return Z, cache    "
   ]
  },
  {
   "cell_type": "code",
   "execution_count": 7,
   "metadata": {},
   "outputs": [],
   "source": [
    "def linear_activation_forward(A_prev, W, b, activation):\n",
    "    # A_prev = X\n",
    "    if activation == \"relu\":\n",
    "        Z, linear_cache = linear_forward(A_prev, W, b)\n",
    "        A, activation_cache = relu(Z)\n",
    "\n",
    "    elif activation == \"sigmoid\":\n",
    "        Z, linear_cache = linear_forward(A_prev, W, b)\n",
    "        A, activation_cache = sigmoid(Z)\n",
    "\n",
    "    cache = (linear_cache, activation_cache)\n",
    "    return A, cache"
   ]
  },
  {
   "cell_type": "code",
   "execution_count": 8,
   "metadata": {},
   "outputs": [],
   "source": [
    "\n",
    "def L_model_forward(X, parameters):\n",
    "\n",
    "    caches = []\n",
    "    L = len(parameters) // 2\n",
    "    A_prev = X\n",
    "    for l in range(1, L):\n",
    "        W = parameters['W' + str(l)]\n",
    "        b = parameters['b' + str(l)]\n",
    "\n",
    "        A_prev, cache = linear_activation_forward(A_prev, W, b, activation=\"relu\")\n",
    "        caches.append(cache)\n",
    "\n",
    "    W = parameters['W' + str(L)]\n",
    "    b = parameters['b' + str(L)]\n",
    "    AL, activation_cache = linear_activation_forward(A_prev, W, b, activation=\"sigmoid\")\n",
    "\n",
    "    caches.append(activation_cache)\n",
    "    return AL, caches"
   ]
  },
  {
   "cell_type": "code",
   "execution_count": 9,
   "metadata": {},
   "outputs": [],
   "source": [
    "parameters = initialize_deep_weights(X, [5, 4, 1])\n",
    "\n",
    "AL, caches = L_model_forward(X, parameters)\n"
   ]
  },
  {
   "cell_type": "code",
   "execution_count": 10,
   "metadata": {},
   "outputs": [
    {
     "data": {
      "text/plain": [
       "(1, 209)"
      ]
     },
     "execution_count": 10,
     "metadata": {},
     "output_type": "execute_result"
    }
   ],
   "source": [
    "AL.shape"
   ]
  },
  {
   "cell_type": "code",
   "execution_count": 11,
   "metadata": {},
   "outputs": [],
   "source": [
    "A_prev = caches[2][0][0].shape\n",
    "W = caches[2][0][1].shape"
   ]
  },
  {
   "cell_type": "code",
   "execution_count": 12,
   "metadata": {},
   "outputs": [],
   "source": [
    "def compute_cost(AL, Y):\n",
    "    m = Y.shape[1]\n",
    "    cost = -(1/m)*np.sum(Y*np.log(AL)+(1-Y)*np.log(1-AL))\n",
    "\n",
    "    return cost"
   ]
  },
  {
   "cell_type": "markdown",
   "metadata": {},
   "source": [
    "# Formulas for backprop\n",
    "\n",
    "dW = (1/m)*np.dot(dZ, A_prev.T)\n",
    "    db = (1/m)*np.sum(dZ, axis=1, keepdims=True)\n",
    "    dA_prev = np.dot(W.T, dZ)"
   ]
  },
  {
   "cell_type": "code",
   "execution_count": 13,
   "metadata": {},
   "outputs": [],
   "source": [
    "def linear_backward(A_prev, W, dZ):\n",
    "\n",
    "    m = X.shape[1]\n",
    "\n",
    "    dW = (1/m)*np.dot(dZ, A_prev.T)\n",
    "    db = (1/m)*np.sum(dZ, axis=1, keepdims=True)\n",
    "    dA_prev = np.dot(W.T, dZ)\n",
    "\n",
    "    return dA_prev, dW, db"
   ]
  },
  {
   "cell_type": "code",
   "execution_count": null,
   "metadata": {},
   "outputs": [],
   "source": []
  },
  {
   "cell_type": "code",
   "execution_count": 14,
   "metadata": {},
   "outputs": [],
   "source": [
    "def linear_activation_backward(A_prev, A, W, dZ, activation):\n",
    "\n",
    "    if activation == 'relu':\n",
    "        dZ = relu_backward(dZ, A)\n",
    "        dA_prev, dW, db = linear_backward(A_prev, W, dZ)\n",
    "        \n",
    "    if activation == 'sigmoid':\n",
    "        dZ = sigmoid_backward(dZ, A)\n",
    "        dA_prev, dW, db = linear_backward(A_prev, W, dZ)\n",
    "        \n",
    "        # print(\"worked fine\")\n",
    "    return dA_prev, dW, db\n"
   ]
  },
  {
   "cell_type": "code",
   "execution_count": 15,
   "metadata": {},
   "outputs": [
    {
     "data": {
      "text/plain": [
       "(1, 1)"
      ]
     },
     "execution_count": 15,
     "metadata": {},
     "output_type": "execute_result"
    }
   ],
   "source": [
    "caches[2][0][1].shape # W\n",
    "caches[2][0][2].shape # b"
   ]
  },
  {
   "cell_type": "code",
   "execution_count": 16,
   "metadata": {},
   "outputs": [
    {
     "data": {
      "text/plain": [
       "(1, 209)"
      ]
     },
     "execution_count": 16,
     "metadata": {},
     "output_type": "execute_result"
    }
   ],
   "source": [
    "caches[2][0][0].shape # A_prev\n",
    "caches[2][1].shape # A"
   ]
  },
  {
   "cell_type": "code",
   "execution_count": 17,
   "metadata": {},
   "outputs": [
    {
     "name": "stdout",
     "output_type": "stream",
     "text": [
      "(4, 209)\n",
      "(1, 4)\n",
      "(1, 209)\n",
      "(5, 209)\n",
      "(4, 5)\n",
      "(4, 209)\n",
      "(12288, 209)\n",
      "(5, 12288)\n",
      "(5, 209)\n"
     ]
    }
   ],
   "source": [
    "for l in reversed(range(3)):\n",
    "    A_prev = caches[l][0][0]\n",
    "    W = caches[l][0][1]\n",
    "    A = caches[l][1]\n",
    "    print(A_prev.shape)\n",
    "    print(W.shape)\n",
    "    print(A.shape)"
   ]
  },
  {
   "cell_type": "code",
   "execution_count": 18,
   "metadata": {},
   "outputs": [],
   "source": [
    "def L_model_backward(AL, caches, Y):\n",
    "\n",
    "    L = len(caches)\n",
    "    gradients = []\n",
    "    dAL = -(np.divide(Y, AL) - np.divide(1-Y, 1-AL))\n",
    "    A_prev = caches[L-1][0][0]\n",
    "    W = caches[L-1][0][1]\n",
    "    A = caches[L-1][1]\n",
    "    dZL, dW, db = linear_activation_backward(A_prev, A, W, dAL, activation='sigmoid')\n",
    "\n",
    "    gradients.append((dZL, dW, db))\n",
    "    for l in reversed(range(L-1)):\n",
    "        A_prev = caches[l][0][0]\n",
    "        W = caches[l][0][1]\n",
    "        A = caches[l][1]\n",
    "        \n",
    "        dZL, dW, db = linear_activation_backward(A_prev, A, W, dZL, activation='relu')\n",
    "        gradients.append((dZL, dW, db))\n",
    "    # cost = compute_cost(AL, Y)\n",
    "    return gradients\n",
    "    \n"
   ]
  },
  {
   "cell_type": "code",
   "execution_count": 19,
   "metadata": {},
   "outputs": [],
   "source": [
    "def update_parameters(parameters, gradients, learning_rate):\n",
    "\n",
    "    for l in reversed(range(len(parameters)//2, 1)):\n",
    "        W =  parameters['W'+ str(l)] \n",
    "        B =  parameters['b'+ str(l)]\n",
    "        \n",
    "        dW = gradients[l-1][1]\n",
    "        db = gradients[l-1][2]\n",
    "\n",
    "        parameters['W'+ str(l)] = W - learning_rate*dW\n",
    "        parameters['b'+ str(l)] = B - learning_rate*db\n",
    "\n",
    "    return parameters"
   ]
  },
  {
   "cell_type": "code",
   "execution_count": 20,
   "metadata": {},
   "outputs": [],
   "source": [
    "gradients = L_model_backward(AL, caches, train_y)\n",
    "updated_parameters = update_parameters(parameters, gradients=gradients, learning_rate=0.3)"
   ]
  },
  {
   "cell_type": "code",
   "execution_count": 21,
   "metadata": {},
   "outputs": [
    {
     "data": {
      "text/plain": [
       "array([[-1.2114455 , -0.61315234,  1.63438421, ...,  2.65595536,\n",
       "         1.17879201,  0.24777997],\n",
       "       [ 0.34917504, -1.81839231, -0.38102678, ...,  0.39646309,\n",
       "         0.23065634, -0.84582035],\n",
       "       [-0.81511899,  0.1087941 , -0.3898773 , ..., -0.84246128,\n",
       "         0.90791175,  0.36916795],\n",
       "       [ 0.50427733,  1.76039912, -0.7538749 , ...,  0.63191632,\n",
       "         0.37415278,  0.15387383],\n",
       "       [ 0.14715899, -0.96619983, -0.241664  , ...,  0.45719513,\n",
       "         0.4683928 , -0.68200383]])"
      ]
     },
     "execution_count": 21,
     "metadata": {},
     "output_type": "execute_result"
    }
   ],
   "source": [
    "updated_parameters['W1']"
   ]
  },
  {
   "cell_type": "code",
   "execution_count": 133,
   "metadata": {},
   "outputs": [
    {
     "name": "stdout",
     "output_type": "stream",
     "text": [
      "worked fine\n"
     ]
    }
   ],
   "source": []
  },
  {
   "cell_type": "code",
   "execution_count": 115,
   "metadata": {},
   "outputs": [
    {
     "data": {
      "text/plain": [
       "(4, 1)"
      ]
     },
     "execution_count": 115,
     "metadata": {},
     "output_type": "execute_result"
    }
   ],
   "source": [
    "gradients[0][2].shape"
   ]
  },
  {
   "cell_type": "code",
   "execution_count": 119,
   "metadata": {},
   "outputs": [
    {
     "name": "stdout",
     "output_type": "stream",
     "text": [
      "2\n",
      "1\n",
      "0\n"
     ]
    }
   ],
   "source": [
    "for l in reversed(range(len(parameters)//2)):\n",
    "    print(l)"
   ]
  },
  {
   "cell_type": "code",
   "execution_count": 157,
   "metadata": {},
   "outputs": [
    {
     "data": {
      "text/plain": [
       "(1, 2)"
      ]
     },
     "execution_count": 157,
     "metadata": {},
     "output_type": "execute_result"
    }
   ],
   "source": [
    "W.shape"
   ]
  },
  {
   "cell_type": "code",
   "execution_count": 158,
   "metadata": {},
   "outputs": [
    {
     "data": {
      "text/plain": [
       "(1, 1)"
      ]
     },
     "execution_count": 158,
     "metadata": {},
     "output_type": "execute_result"
    }
   ],
   "source": [
    "b.shape"
   ]
  },
  {
   "cell_type": "code",
   "execution_count": 159,
   "metadata": {},
   "outputs": [
    {
     "data": {
      "text/plain": [
       "(2, 209)"
      ]
     },
     "execution_count": 159,
     "metadata": {},
     "output_type": "execute_result"
    }
   ],
   "source": [
    "dZ.shape"
   ]
  },
  {
   "cell_type": "code",
   "execution_count": 160,
   "metadata": {},
   "outputs": [
    {
     "data": {
      "text/plain": [
       "(1, 2)"
      ]
     },
     "execution_count": 160,
     "metadata": {},
     "output_type": "execute_result"
    }
   ],
   "source": [
    "dW.shape"
   ]
  },
  {
   "cell_type": "code",
   "execution_count": null,
   "metadata": {},
   "outputs": [],
   "source": []
  }
 ],
 "metadata": {
  "kernelspec": {
   "display_name": "Python 3.10.5 64-bit",
   "language": "python",
   "name": "python3"
  },
  "language_info": {
   "codemirror_mode": {
    "name": "ipython",
    "version": 3
   },
   "file_extension": ".py",
   "mimetype": "text/x-python",
   "name": "python",
   "nbconvert_exporter": "python",
   "pygments_lexer": "ipython3",
   "version": "3.10.5"
  },
  "orig_nbformat": 4,
  "vscode": {
   "interpreter": {
    "hash": "cf75baf5e7ca3faaa82feacc38aaa4bb309862360d3df1f500c535d8b05cd050"
   }
  }
 },
 "nbformat": 4,
 "nbformat_minor": 2
}
